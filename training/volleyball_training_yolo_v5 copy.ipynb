{
 "cells": [
  {
   "cell_type": "code",
   "execution_count": 1,
   "metadata": {},
   "outputs": [
    {
     "name": "stdout",
     "output_type": "stream",
     "text": [
      "Requirement already satisfied: roboflow in /home/khalil/FAS/.venv/lib/python3.10/site-packages (1.1.48)\n",
      "Requirement already satisfied: Pillow>=7.1.2 in /home/khalil/FAS/.venv/lib/python3.10/site-packages (from roboflow) (11.0.0)\n",
      "Requirement already satisfied: certifi in /home/khalil/FAS/.venv/lib/python3.10/site-packages (from roboflow) (2024.8.30)\n",
      "Requirement already satisfied: PyYAML>=5.3.1 in /home/khalil/FAS/.venv/lib/python3.10/site-packages (from roboflow) (6.0.2)\n",
      "Requirement already satisfied: kiwisolver>=1.3.1 in /home/khalil/FAS/.venv/lib/python3.10/site-packages (from roboflow) (1.4.7)\n",
      "Requirement already satisfied: cycler in /home/khalil/FAS/.venv/lib/python3.10/site-packages (from roboflow) (0.12.1)\n",
      "Requirement already satisfied: tqdm>=4.41.0 in /home/khalil/FAS/.venv/lib/python3.10/site-packages (from roboflow) (4.66.6)\n",
      "Requirement already satisfied: matplotlib in /home/khalil/FAS/.venv/lib/python3.10/site-packages (from roboflow) (3.9.2)\n",
      "Requirement already satisfied: six in /home/khalil/FAS/.venv/lib/python3.10/site-packages (from roboflow) (1.16.0)\n",
      "Requirement already satisfied: filetype in /home/khalil/FAS/.venv/lib/python3.10/site-packages (from roboflow) (1.2.0)\n",
      "Requirement already satisfied: requests in /home/khalil/FAS/.venv/lib/python3.10/site-packages (from roboflow) (2.32.3)\n",
      "Requirement already satisfied: urllib3>=1.26.6 in /home/khalil/FAS/.venv/lib/python3.10/site-packages (from roboflow) (2.2.3)\n",
      "Requirement already satisfied: python-dotenv in /home/khalil/FAS/.venv/lib/python3.10/site-packages (from roboflow) (1.0.1)\n",
      "Requirement already satisfied: idna==3.7 in /home/khalil/FAS/.venv/lib/python3.10/site-packages (from roboflow) (3.7)\n",
      "Requirement already satisfied: numpy>=1.18.5 in /home/khalil/FAS/.venv/lib/python3.10/site-packages (from roboflow) (2.1.2)\n",
      "Requirement already satisfied: python-dateutil in /home/khalil/FAS/.venv/lib/python3.10/site-packages (from roboflow) (2.9.0.post0)\n",
      "Requirement already satisfied: requests-toolbelt in /home/khalil/FAS/.venv/lib/python3.10/site-packages (from roboflow) (1.0.0)\n",
      "Requirement already satisfied: opencv-python-headless==4.10.0.84 in /home/khalil/FAS/.venv/lib/python3.10/site-packages (from roboflow) (4.10.0.84)\n",
      "Requirement already satisfied: packaging>=20.0 in /home/khalil/FAS/.venv/lib/python3.10/site-packages (from matplotlib->roboflow) (24.1)\n",
      "Requirement already satisfied: contourpy>=1.0.1 in /home/khalil/FAS/.venv/lib/python3.10/site-packages (from matplotlib->roboflow) (1.3.0)\n",
      "Requirement already satisfied: pyparsing>=2.3.1 in /home/khalil/FAS/.venv/lib/python3.10/site-packages (from matplotlib->roboflow) (3.2.0)\n",
      "Requirement already satisfied: fonttools>=4.22.0 in /home/khalil/FAS/.venv/lib/python3.10/site-packages (from matplotlib->roboflow) (4.54.1)\n",
      "Requirement already satisfied: charset-normalizer<4,>=2 in /home/khalil/FAS/.venv/lib/python3.10/site-packages (from requests->roboflow) (3.4.0)\n"
     ]
    }
   ],
   "source": [
    "!pip install roboflow"
   ]
  },
  {
   "cell_type": "markdown",
   "metadata": {},
   "source": [
    "# Get Dataset"
   ]
  },
  {
   "cell_type": "code",
   "execution_count": 2,
   "metadata": {},
   "outputs": [
    {
     "name": "stdout",
     "output_type": "stream",
     "text": [
      "loading Roboflow workspace...\n",
      "loading Roboflow project...\n"
     ]
    },
    {
     "name": "stderr",
     "output_type": "stream",
     "text": [
      "Downloading Dataset Version Zip in people_and_volleyball-1 to yolov5pytorch:: 100%|██████████| 613901/613901 [10:02<00:00, 1018.11it/s]"
     ]
    },
    {
     "name": "stdout",
     "output_type": "stream",
     "text": [
      "\n"
     ]
    },
    {
     "name": "stderr",
     "output_type": "stream",
     "text": [
      "\n",
      "Extracting Dataset Version Zip to people_and_volleyball-1 in yolov5pytorch:: 100%|██████████| 19812/19812 [00:02<00:00, 6845.65it/s]\n"
     ]
    }
   ],
   "source": [
    "from roboflow import Roboflow\n",
    "rf = Roboflow(api_key=\"xExjZCxVCRFq7KozkGMN\")\n",
    "project = rf.workspace(\"chan-yui\").project(\"people_and_volleyball-dkz7f\")\n",
    "version = project.version(1)\n",
    "dataset = version.download(\"yolov5\")\n",
    "                "
   ]
  },
  {
   "cell_type": "code",
   "execution_count": 3,
   "metadata": {},
   "outputs": [
    {
     "data": {
      "text/plain": [
       "'/home/khalil/VAS/training/people_and_volleyball-1'"
      ]
     },
     "execution_count": 3,
     "metadata": {},
     "output_type": "execute_result"
    }
   ],
   "source": [
    "dataset.location"
   ]
  },
  {
   "cell_type": "code",
   "execution_count": 4,
   "metadata": {},
   "outputs": [
    {
     "data": {
      "text/plain": [
       "'people_and_volleyball-1/people_and_volleyball-1/valid'"
      ]
     },
     "execution_count": 4,
     "metadata": {},
     "output_type": "execute_result"
    }
   ],
   "source": [
    "import shutil\n",
    "\n",
    "shutil.move('people_and_volleyball-1/train',\n",
    "            'people_and_volleyball-1/people_and_volleyball-1/train'\n",
    "            )\n",
    "\n",
    "shutil.move('people_and_volleyball-1/test',\n",
    "            'people_and_volleyball-1/people_and_volleyball-1/test'\n",
    "            )\n",
    "\n",
    "shutil.move('people_and_volleyball-1/valid',\n",
    "            'people_and_volleyball-1/people_and_volleyball-1/valid'\n",
    "            )"
   ]
  },
  {
   "cell_type": "markdown",
   "metadata": {},
   "source": []
  },
  {
   "cell_type": "markdown",
   "metadata": {},
   "source": [
    "# Training "
   ]
  },
  {
   "cell_type": "code",
   "execution_count": 5,
   "metadata": {},
   "outputs": [],
   "source": [
    "#cleaning cash from gpu\n",
    "import torch\n",
    "torch.cuda.empty_cache()\n"
   ]
  },
  {
   "cell_type": "code",
   "execution_count": 6,
   "metadata": {},
   "outputs": [
    {
     "data": {
      "text/plain": [
       "'/home/khalil/VAS/training/people_and_volleyball-1'"
      ]
     },
     "execution_count": 6,
     "metadata": {},
     "output_type": "execute_result"
    }
   ],
   "source": [
    "dataset.location"
   ]
  },
  {
   "cell_type": "code",
   "execution_count": 8,
   "metadata": {},
   "outputs": [
    {
     "name": "stdout",
     "output_type": "stream",
     "text": [
      "New https://pypi.org/project/ultralytics/8.3.33 available 😃 Update with 'pip install -U ultralytics'\n",
      "Ultralytics 8.3.25 🚀 Python-3.10.12 torch-2.5.1+cu124 CUDA:0 (NVIDIA GeForce GTX 1650, 3721MiB)\n",
      "\u001b[34m\u001b[1mengine/trainer: \u001b[0mtask=detect, mode=train, model=yolov5mu.pt, data=/home/khalil/VAS/training/people_and_volleyball-1/data.yaml, epochs=40, time=None, patience=100, batch=8, imgsz=420, save=True, save_period=-1, cache=False, device=None, workers=8, project=None, name=train2, exist_ok=False, pretrained=True, optimizer=auto, verbose=True, seed=0, deterministic=True, single_cls=False, rect=False, cos_lr=False, close_mosaic=10, resume=False, amp=False, fraction=1.0, profile=False, freeze=None, multi_scale=False, overlap_mask=True, mask_ratio=4, dropout=0.0, val=True, split=val, save_json=False, save_hybrid=False, conf=None, iou=0.7, max_det=300, half=False, dnn=False, plots=True, source=None, vid_stride=1, stream_buffer=False, visualize=False, augment=False, agnostic_nms=False, classes=None, retina_masks=False, embed=None, show=False, save_frames=False, save_txt=False, save_conf=False, save_crop=False, show_labels=True, show_conf=True, show_boxes=True, line_width=None, format=torchscript, keras=False, optimize=False, int8=False, dynamic=False, simplify=True, opset=None, workspace=4, nms=False, lr0=0.01, lrf=0.01, momentum=0.937, weight_decay=0.0005, warmup_epochs=3.0, warmup_momentum=0.8, warmup_bias_lr=0.1, box=7.5, cls=0.5, dfl=1.5, pose=12.0, kobj=1.0, label_smoothing=0.0, nbs=64, hsv_h=0.015, hsv_s=0.7, hsv_v=0.4, degrees=0.0, translate=0.1, scale=0.5, shear=0.0, perspective=0.0, flipud=0.0, fliplr=0.5, bgr=0.0, mosaic=1.0, mixup=0.0, copy_paste=0.0, copy_paste_mode=flip, auto_augment=randaugment, erasing=0.4, crop_fraction=1.0, cfg=None, tracker=botsort.yaml, save_dir=runs/detect/train2\n",
      "Overriding model.yaml nc=80 with nc=2\n",
      "\n",
      "                   from  n    params  module                                       arguments                     \n",
      "  0                  -1  1      5280  ultralytics.nn.modules.conv.Conv             [3, 48, 6, 2, 2]              \n",
      "  1                  -1  1     41664  ultralytics.nn.modules.conv.Conv             [48, 96, 3, 2]                \n",
      "  2                  -1  2     65280  ultralytics.nn.modules.block.C3              [96, 96, 2]                   \n",
      "  3                  -1  1    166272  ultralytics.nn.modules.conv.Conv             [96, 192, 3, 2]               \n",
      "  4                  -1  4    444672  ultralytics.nn.modules.block.C3              [192, 192, 4]                 \n",
      "  5                  -1  1    664320  ultralytics.nn.modules.conv.Conv             [192, 384, 3, 2]              \n",
      "  6                  -1  6   2512896  ultralytics.nn.modules.block.C3              [384, 384, 6]                 \n",
      "  7                  -1  1   2655744  ultralytics.nn.modules.conv.Conv             [384, 768, 3, 2]              \n",
      "  8                  -1  2   4134912  ultralytics.nn.modules.block.C3              [768, 768, 2]                 \n",
      "  9                  -1  1   1476864  ultralytics.nn.modules.block.SPPF            [768, 768, 5]                 \n",
      " 10                  -1  1    295680  ultralytics.nn.modules.conv.Conv             [768, 384, 1, 1]              \n",
      " 11                  -1  1         0  torch.nn.modules.upsampling.Upsample         [None, 2, 'nearest']          \n",
      " 12             [-1, 6]  1         0  ultralytics.nn.modules.conv.Concat           [1]                           \n",
      " 13                  -1  2   1182720  ultralytics.nn.modules.block.C3              [768, 384, 2, False]          \n",
      " 14                  -1  1     74112  ultralytics.nn.modules.conv.Conv             [384, 192, 1, 1]              \n",
      " 15                  -1  1         0  torch.nn.modules.upsampling.Upsample         [None, 2, 'nearest']          \n",
      " 16             [-1, 4]  1         0  ultralytics.nn.modules.conv.Concat           [1]                           \n",
      " 17                  -1  2    296448  ultralytics.nn.modules.block.C3              [384, 192, 2, False]          \n",
      " 18                  -1  1    332160  ultralytics.nn.modules.conv.Conv             [192, 192, 3, 2]              \n",
      " 19            [-1, 14]  1         0  ultralytics.nn.modules.conv.Concat           [1]                           \n",
      " 20                  -1  2   1035264  ultralytics.nn.modules.block.C3              [384, 384, 2, False]          \n",
      " 21                  -1  1   1327872  ultralytics.nn.modules.conv.Conv             [384, 384, 3, 2]              \n",
      " 22            [-1, 10]  1         0  ultralytics.nn.modules.conv.Concat           [1]                           \n",
      " 23                  -1  2   4134912  ultralytics.nn.modules.block.C3              [768, 768, 2, False]          \n",
      " 24        [17, 20, 23]  1   4219222  ultralytics.nn.modules.head.Detect           [2, [192, 384, 768]]          \n",
      "YOLOv5m summary: 339 layers, 25,066,294 parameters, 25,066,278 gradients, 64.4 GFLOPs\n",
      "\n",
      "Transferred 553/559 items from pretrained weights\n",
      "Freezing layer 'model.24.dfl.conv.weight'\n",
      "WARNING ⚠️ imgsz=[420] must be multiple of max stride 32, updating to [448]\n",
      "\u001b[34m\u001b[1mtrain: \u001b[0mScanning /home/khalil/VAS/training/people_and_volleyball-1/people_and_vol\u001b[0m\n",
      "WARNING ⚠️ Box and segment counts should be equal, but got len(segments) = 40, len(boxes) = 198834. To resolve this only boxes will be used and all segments will be removed. To avoid this please supply either a detect or segment dataset, not a detect-segment mixed dataset.\n",
      "\u001b[34m\u001b[1mval: \u001b[0mScanning /home/khalil/VAS/training/people_and_volleyball-1/people_and_volle\u001b[0m\n",
      "WARNING ⚠️ Box and segment counts should be equal, but got len(segments) = 61, len(boxes) = 29396. To resolve this only boxes will be used and all segments will be removed. To avoid this please supply either a detect or segment dataset, not a detect-segment mixed dataset.\n",
      "Plotting labels to runs/detect/train2/labels.jpg... \n",
      "\u001b[34m\u001b[1moptimizer:\u001b[0m 'optimizer=auto' found, ignoring 'lr0=0.01' and 'momentum=0.937' and determining best 'optimizer', 'lr0' and 'momentum' automatically... \n",
      "\u001b[34m\u001b[1moptimizer:\u001b[0m AdamW(lr=0.001667, momentum=0.9) with parameter groups 91 weight(decay=0.0), 98 weight(decay=0.0005), 97 bias(decay=0.0)\n",
      "Image sizes 448 train, 448 val\n",
      "Using 8 dataloader workers\n",
      "Logging results to \u001b[1mruns/detect/train2\u001b[0m\n",
      "Starting training for 40 epochs...\n",
      "\n",
      "      Epoch    GPU_mem   box_loss   cls_loss   dfl_loss  Instances       Size\n",
      "       1/40      3.54G      1.446     0.9337       1.09        262        448: 1\n",
      "                 Class     Images  Instances      Box(P          R      mAP50  m\n",
      "                   all       1359      29396       0.69      0.489       0.56      0.302\n",
      "\n",
      "      Epoch    GPU_mem   box_loss   cls_loss   dfl_loss  Instances       Size\n",
      "       2/40       3.5G      1.391     0.8687      1.066        165        448: 1\n",
      "                 Class     Images  Instances      Box(P          R      mAP50  m\n",
      "                   all       1359      29396      0.688      0.509      0.567      0.304\n",
      "\n",
      "      Epoch    GPU_mem   box_loss   cls_loss   dfl_loss  Instances       Size\n",
      "       3/40      3.39G      1.359     0.8383      1.055        220        448: 1\n",
      "                 Class     Images  Instances      Box(P          R      mAP50  m\n",
      "                   all       1359      29396       0.75      0.555      0.622      0.351\n",
      "\n",
      "      Epoch    GPU_mem   box_loss   cls_loss   dfl_loss  Instances       Size\n",
      "       4/40      3.78G      1.325     0.8098      1.042        201        448: 1\n",
      "                 Class     Images  Instances      Box(P          R      mAP50  m\n",
      "                   all       1359      29396      0.685      0.554      0.616      0.345\n",
      "\n",
      "      Epoch    GPU_mem   box_loss   cls_loss   dfl_loss  Instances       Size\n",
      "       5/40      3.77G      1.299     0.7883      1.034        197        448: 1\n",
      "                 Class     Images  Instances      Box(P          R      mAP50  m\n",
      "                   all       1359      29396      0.759      0.548      0.634      0.364\n",
      "\n",
      "      Epoch    GPU_mem   box_loss   cls_loss   dfl_loss  Instances       Size\n",
      "       6/40       3.5G      1.267     0.7661      1.023        216        448: 1\n",
      "                 Class     Images  Instances      Box(P          R      mAP50  m\n",
      "                   all       1359      29396      0.766      0.574       0.65      0.377\n",
      "\n",
      "      Epoch    GPU_mem   box_loss   cls_loss   dfl_loss  Instances       Size\n",
      "       7/40      3.33G      1.251     0.7508      1.018        229        448: 1\n",
      "                 Class     Images  Instances      Box(P          R      mAP50  m\n",
      "                   all       1359      29396      0.739       0.57      0.645      0.377\n",
      "\n",
      "      Epoch    GPU_mem   box_loss   cls_loss   dfl_loss  Instances       Size\n",
      "       8/40      3.48G       1.23      0.738      1.011        127        448: 1\n",
      "                 Class     Images  Instances      Box(P          R      mAP50  m\n",
      "                   all       1359      29396      0.713      0.579       0.64      0.376\n",
      "\n",
      "      Epoch    GPU_mem   box_loss   cls_loss   dfl_loss  Instances       Size\n",
      "       9/40      3.37G      1.214     0.7239      1.007        336        448: 1\n",
      "                 Class     Images  Instances      Box(P          R      mAP50  m\n",
      "                   all       1359      29396      0.723      0.547      0.634      0.362\n",
      "\n",
      "      Epoch    GPU_mem   box_loss   cls_loss   dfl_loss  Instances       Size\n",
      "      10/40      3.38G      1.203     0.7138      1.002        256        448: 1\n",
      "                 Class     Images  Instances      Box(P          R      mAP50  m\n",
      "                   all       1359      29396      0.717      0.598      0.666      0.391\n",
      "\n",
      "      Epoch    GPU_mem   box_loss   cls_loss   dfl_loss  Instances       Size\n",
      "      11/40      3.37G      1.202     0.7133      1.003        275        448: 1\n",
      "                 Class     Images  Instances      Box(P          R      mAP50  m\n",
      "                   all       1359      29396      0.785      0.598      0.687      0.407\n",
      "\n",
      "      Epoch    GPU_mem   box_loss   cls_loss   dfl_loss  Instances       Size\n",
      "      12/40      3.52G      1.188     0.7026     0.9969        394        448: 1\n",
      "                 Class     Images  Instances      Box(P          R      mAP50  m\n",
      "                   all       1359      29396      0.717      0.605      0.654       0.39\n",
      "\n",
      "      Epoch    GPU_mem   box_loss   cls_loss   dfl_loss  Instances       Size\n",
      "      13/40      3.77G       1.18     0.6976     0.9959        192        448: 1\n",
      "                 Class     Images  Instances      Box(P          R      mAP50  m\n",
      "                   all       1359      29396      0.762      0.589      0.672      0.401\n",
      "\n",
      "      Epoch    GPU_mem   box_loss   cls_loss   dfl_loss  Instances       Size\n",
      "      14/40      3.75G      1.168     0.6869     0.9923        299        448: 1\n",
      "                 Class     Images  Instances      Box(P          R      mAP50  m\n",
      "                   all       1359      29396      0.768      0.602      0.685      0.397\n",
      "\n",
      "      Epoch    GPU_mem   box_loss   cls_loss   dfl_loss  Instances       Size\n",
      "      15/40      3.49G      1.163     0.6794     0.9883        309        448: 1\n",
      "                 Class     Images  Instances      Box(P          R      mAP50  m\n",
      "                   all       1359      29396      0.804      0.602       0.69       0.41\n",
      "\n",
      "      Epoch    GPU_mem   box_loss   cls_loss   dfl_loss  Instances       Size\n",
      "      16/40      3.45G      1.156     0.6767     0.9868        298        448: 1\n",
      "                 Class     Images  Instances      Box(P          R      mAP50  m\n",
      "                   all       1359      29396      0.769      0.631      0.692      0.413\n",
      "\n",
      "      Epoch    GPU_mem   box_loss   cls_loss   dfl_loss  Instances       Size\n",
      "      17/40      3.48G      1.143     0.6664     0.9845        248        448: 1\n",
      "                 Class     Images  Instances      Box(P          R      mAP50  m\n",
      "                   all       1359      29396      0.759      0.635       0.69      0.413\n",
      "\n",
      "      Epoch    GPU_mem   box_loss   cls_loss   dfl_loss  Instances       Size\n",
      "      18/40      3.77G      1.138     0.6626      0.983        219        448: 1\n",
      "                 Class     Images  Instances      Box(P          R      mAP50  m\n",
      "                   all       1359      29396      0.763       0.61      0.676       0.41\n",
      "\n",
      "      Epoch    GPU_mem   box_loss   cls_loss   dfl_loss  Instances       Size\n",
      "      19/40      3.47G      1.127     0.6559     0.9798        252        448: 1\n",
      "                 Class     Images  Instances      Box(P          R      mAP50  m\n",
      "                   all       1359      29396      0.793       0.62      0.696      0.412\n",
      "\n",
      "      Epoch    GPU_mem   box_loss   cls_loss   dfl_loss  Instances       Size\n",
      "      20/40      3.38G      1.125     0.6529     0.9784        261        448: 1\n",
      "                 Class     Images  Instances      Box(P          R      mAP50  m\n",
      "                   all       1359      29396      0.791      0.625      0.703      0.426\n",
      "\n",
      "      Epoch    GPU_mem   box_loss   cls_loss   dfl_loss  Instances       Size\n",
      "      21/40      3.77G      1.118     0.6492      0.975        224        448: 1\n",
      "                 Class     Images  Instances      Box(P          R      mAP50  m\n",
      "                   all       1359      29396      0.832      0.638      0.714      0.428\n",
      "\n",
      "      Epoch    GPU_mem   box_loss   cls_loss   dfl_loss  Instances       Size\n",
      "      22/40       3.5G       1.11     0.6445      0.976        242        448: 1\n",
      "                 Class     Images  Instances      Box(P          R      mAP50  m\n",
      "                   all       1359      29396      0.828      0.609      0.707      0.427\n",
      "\n",
      "      Epoch    GPU_mem   box_loss   cls_loss   dfl_loss  Instances       Size\n",
      "      23/40      3.33G      1.107     0.6368     0.9726        260        448: 1\n",
      "                 Class     Images  Instances      Box(P          R      mAP50  m\n",
      "                   all       1359      29396      0.797      0.635      0.711      0.429\n",
      "\n",
      "      Epoch    GPU_mem   box_loss   cls_loss   dfl_loss  Instances       Size\n",
      "      24/40      3.49G      1.104     0.6363     0.9716        203        448: 1\n",
      "                 Class     Images  Instances      Box(P          R      mAP50  m\n",
      "                   all       1359      29396      0.813      0.637      0.717      0.434\n",
      "\n",
      "      Epoch    GPU_mem   box_loss   cls_loss   dfl_loss  Instances       Size\n",
      "      25/40      3.77G      1.093     0.6292     0.9681        143        448: 1\n",
      "                 Class     Images  Instances      Box(P          R      mAP50  m\n",
      "                   all       1359      29396       0.81      0.632      0.714       0.43\n",
      "\n",
      "      Epoch    GPU_mem   box_loss   cls_loss   dfl_loss  Instances       Size\n",
      "      26/40      3.76G      1.088     0.6245     0.9678        286        448: 1\n",
      "                 Class     Images  Instances      Box(P          R      mAP50  m\n",
      "                   all       1359      29396      0.789      0.656      0.716      0.432\n",
      "\n",
      "      Epoch    GPU_mem   box_loss   cls_loss   dfl_loss  Instances       Size\n",
      "      27/40      3.77G      1.076     0.6166     0.9647        284        448: 1\n",
      "                 Class     Images  Instances      Box(P          R      mAP50  m\n",
      "                   all       1359      29396      0.783      0.637      0.703      0.431\n",
      "\n",
      "      Epoch    GPU_mem   box_loss   cls_loss   dfl_loss  Instances       Size\n",
      "      28/40      3.36G      1.079     0.6162     0.9644        393        448: 1\n",
      "                 Class     Images  Instances      Box(P          R      mAP50  m\n",
      "                   all       1359      29396      0.794      0.637      0.707      0.435\n",
      "\n",
      "      Epoch    GPU_mem   box_loss   cls_loss   dfl_loss  Instances       Size\n",
      "      29/40      3.77G      1.072     0.6127     0.9618        352        448: 1\n",
      "                 Class     Images  Instances      Box(P          R      mAP50  m\n",
      "                   all       1359      29396      0.821      0.645       0.73      0.442\n",
      "\n",
      "      Epoch    GPU_mem   box_loss   cls_loss   dfl_loss  Instances       Size\n",
      "      30/40      3.75G      1.061     0.6077     0.9599        465        448: 1\n",
      "                 Class     Images  Instances      Box(P          R      mAP50  m\n",
      "                   all       1359      29396      0.796      0.644      0.722      0.436\n",
      "Closing dataloader mosaic\n",
      "\n",
      "      Epoch    GPU_mem   box_loss   cls_loss   dfl_loss  Instances       Size\n",
      "      31/40      3.37G      1.017     0.5877     0.9585        133        448: 1\n",
      "                 Class     Images  Instances      Box(P          R      mAP50  m\n",
      "                   all       1359      29396      0.795      0.648      0.718       0.44\n",
      "\n",
      "      Epoch    GPU_mem   box_loss   cls_loss   dfl_loss  Instances       Size\n",
      "      32/40      3.36G      1.006     0.5807     0.9551        283        448: 1\n",
      "                 Class     Images  Instances      Box(P          R      mAP50  m\n",
      "                   all       1359      29396      0.789      0.656      0.726      0.443\n",
      "\n",
      "      Epoch    GPU_mem   box_loss   cls_loss   dfl_loss  Instances       Size\n",
      "      33/40      3.37G     0.9968     0.5744     0.9519        242        448: 1\n",
      "                 Class     Images  Instances      Box(P          R      mAP50  m\n",
      "                   all       1359      29396      0.796      0.654      0.728      0.447\n",
      "\n",
      "      Epoch    GPU_mem   box_loss   cls_loss   dfl_loss  Instances       Size\n",
      "      34/40      3.36G     0.9861     0.5657     0.9483        115        448: 1\n",
      "                 Class     Images  Instances      Box(P          R      mAP50  m\n",
      "                   all       1359      29396      0.824      0.656      0.729      0.446\n",
      "\n",
      "      Epoch    GPU_mem   box_loss   cls_loss   dfl_loss  Instances       Size\n",
      "      35/40      3.37G     0.9825     0.5618     0.9484        220        448: 1\n",
      "                 Class     Images  Instances      Box(P          R      mAP50  m\n",
      "                   all       1359      29396       0.86      0.646      0.741      0.454\n",
      "\n",
      "      Epoch    GPU_mem   box_loss   cls_loss   dfl_loss  Instances       Size\n",
      "      36/40      3.38G     0.9735     0.5555     0.9448        192        448: 1\n",
      "                 Class     Images  Instances      Box(P          R      mAP50  m\n",
      "                   all       1359      29396      0.857       0.65      0.742      0.454\n",
      "\n",
      "      Epoch    GPU_mem   box_loss   cls_loss   dfl_loss  Instances       Size\n",
      "      37/40      3.77G     0.9656     0.5494     0.9402        174        448: 1\n",
      "                 Class     Images  Instances      Box(P          R      mAP50  m\n",
      "                   all       1359      29396      0.834       0.65       0.74      0.453\n",
      "\n",
      "      Epoch    GPU_mem   box_loss   cls_loss   dfl_loss  Instances       Size\n",
      "      38/40       3.5G     0.9593      0.544     0.9387        264        448: 1\n",
      "                 Class     Images  Instances      Box(P          R      mAP50  m\n",
      "                   all       1359      29396      0.843      0.638      0.737      0.452\n",
      "\n",
      "      Epoch    GPU_mem   box_loss   cls_loss   dfl_loss  Instances       Size\n",
      "      39/40      3.33G     0.9495     0.5386     0.9357        143        448: 1\n",
      "                 Class     Images  Instances      Box(P          R      mAP50  m\n",
      "                   all       1359      29396      0.822      0.655      0.741      0.457\n",
      "\n",
      "      Epoch    GPU_mem   box_loss   cls_loss   dfl_loss  Instances       Size\n",
      "      40/40      3.38G     0.9454     0.5333      0.934         93        448: 1\n",
      "                 Class     Images  Instances      Box(P          R      mAP50  m\n",
      "                   all       1359      29396      0.818      0.652      0.738      0.455\n",
      "\n",
      "40 epochs completed in 5.867 hours.\n",
      "Optimizer stripped from runs/detect/train2/weights/last.pt, 50.5MB\n",
      "Optimizer stripped from runs/detect/train2/weights/best.pt, 50.5MB\n",
      "\n",
      "Validating runs/detect/train2/weights/best.pt...\n",
      "Ultralytics 8.3.25 🚀 Python-3.10.12 torch-2.5.1+cu124 CUDA:0 (NVIDIA GeForce GTX 1650, 3721MiB)\n",
      "YOLOv5m summary (fused): 248 layers, 25,046,374 parameters, 0 gradients, 64.0 GFLOPs\n",
      "                 Class     Images  Instances      Box(P          R      mAP50  m\n",
      "                   all       1359      29396      0.822      0.655      0.741      0.457\n",
      "                people       1358      28157      0.817      0.772      0.864      0.582\n",
      "            volleyball       1027       1239      0.827      0.538      0.618      0.332\n",
      "Speed: 0.2ms preprocess, 16.2ms inference, 0.0ms loss, 0.7ms postprocess per image\n",
      "Results saved to \u001b[1mruns/detect/train2\u001b[0m\n",
      "💡 Learn more at https://docs.ultralytics.com/modes/train\n"
     ]
    }
   ],
   "source": [
    "!yolo task=detect mode=train model=yolov5mu.pt data={dataset.location}/data.yaml epochs=40 imgsz=420 batch=8 amp=False\n"
   ]
  }
 ],
 "metadata": {
  "kernelspec": {
   "display_name": ".venv",
   "language": "python",
   "name": "python3"
  },
  "language_info": {
   "codemirror_mode": {
    "name": "ipython",
    "version": 3
   },
   "file_extension": ".py",
   "mimetype": "text/x-python",
   "name": "python",
   "nbconvert_exporter": "python",
   "pygments_lexer": "ipython3",
   "version": "3.10.12"
  }
 },
 "nbformat": 4,
 "nbformat_minor": 2
}
