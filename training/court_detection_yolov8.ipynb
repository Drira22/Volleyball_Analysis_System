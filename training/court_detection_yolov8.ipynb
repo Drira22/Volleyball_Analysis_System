{
 "cells": [
  {
   "cell_type": "code",
   "execution_count": null,
   "metadata": {},
   "outputs": [],
   "source": [
    "!pip install roboflow"
   ]
  },
  {
   "cell_type": "markdown",
   "metadata": {},
   "source": [
    "# Get Dataset"
   ]
  },
  {
   "cell_type": "code",
   "execution_count": 1,
   "metadata": {},
   "outputs": [
    {
     "name": "stdout",
     "output_type": "stream",
     "text": [
      "loading Roboflow workspace...\n",
      "loading Roboflow project...\n"
     ]
    },
    {
     "name": "stderr",
     "output_type": "stream",
     "text": [
      "Downloading Dataset Version Zip in volleyball-court-keypoints-1 to yolov8:: 100%|██████████| 23565/23565 [00:26<00:00, 873.39it/s] "
     ]
    },
    {
     "name": "stdout",
     "output_type": "stream",
     "text": [
      "\n"
     ]
    },
    {
     "name": "stderr",
     "output_type": "stream",
     "text": [
      "\n",
      "Extracting Dataset Version Zip to volleyball-court-keypoints-1 in yolov8:: 100%|██████████| 1002/1002 [00:00<00:00, 6800.97it/s]\n"
     ]
    }
   ],
   "source": [
    "from roboflow import Roboflow\n",
    "rf = Roboflow(api_key=\"cJUunyRGd3YuAM3cnXbU\")\n",
    "project = rf.workspace(\"volleyballcourt\").project(\"volleyball-court-keypoints-k6y7r\")\n",
    "version = project.version(1)\n",
    "dataset = version.download(\"yolov8\")\n",
    "                "
   ]
  },
  {
   "cell_type": "code",
   "execution_count": 2,
   "metadata": {},
   "outputs": [
    {
     "data": {
      "text/plain": [
       "'/home/khalil/VAS/training/volleyball-court-keypoints-1'"
      ]
     },
     "execution_count": 2,
     "metadata": {},
     "output_type": "execute_result"
    }
   ],
   "source": [
    "dataset.location"
   ]
  },
  {
   "cell_type": "code",
   "execution_count": 3,
   "metadata": {},
   "outputs": [
    {
     "data": {
      "text/plain": [
       "'volleyball-court-keypoints-1/volleyball-court-keypoints-1/valid'"
      ]
     },
     "execution_count": 3,
     "metadata": {},
     "output_type": "execute_result"
    }
   ],
   "source": [
    "import shutil\n",
    "\n",
    "shutil.move('volleyball-court-keypoints-1/train',\n",
    "            'volleyball-court-keypoints-1/volleyball-court-keypoints-1/train'\n",
    "            )\n",
    "\n",
    "shutil.move('volleyball-court-keypoints-1/test',\n",
    "            'volleyball-court-keypoints-1/volleyball-court-keypoints-1/test'\n",
    "            )\n",
    "\n",
    "shutil.move('volleyball-court-keypoints-1/valid',\n",
    "            'volleyball-court-keypoints-1/volleyball-court-keypoints-1/valid'\n",
    "            )"
   ]
  },
  {
   "cell_type": "markdown",
   "metadata": {},
   "source": [
    "# Train"
   ]
  },
  {
   "cell_type": "code",
   "execution_count": 4,
   "metadata": {},
   "outputs": [],
   "source": [
    "#cleaning cash from gpu\n",
    "import torch\n",
    "torch.cuda.empty_cache()\n"
   ]
  },
  {
   "cell_type": "code",
   "execution_count": 5,
   "metadata": {},
   "outputs": [
    {
     "data": {
      "text/plain": [
       "'/home/khalil/VAS/training/volleyball-court-keypoints-1'"
      ]
     },
     "execution_count": 5,
     "metadata": {},
     "output_type": "execute_result"
    }
   ],
   "source": [
    "dataset.location"
   ]
  },
  {
   "cell_type": "code",
   "execution_count": 6,
   "metadata": {},
   "outputs": [
    {
     "name": "stdout",
     "output_type": "stream",
     "text": [
      "WARNING ⚠️ conflicting 'task=detect' passed with 'task=pose' model. Ignoring 'task=detect' and updating to 'task=pose' to match model.\n",
      "New https://pypi.org/project/ultralytics/8.3.39 available 😃 Update with 'pip install -U ultralytics'\n",
      "Ultralytics 8.3.25 🚀 Python-3.10.12 torch-2.5.1+cu124 CUDA:0 (NVIDIA GeForce GTX 1650, 3721MiB)\n",
      "\u001b[34m\u001b[1mengine/trainer: \u001b[0mtask=pose, mode=train, model=yolov8s-pose.pt, data=/home/khalil/VAS/training/volleyball-court-keypoints-1/data.yaml, epochs=20, time=None, patience=100, batch=8, imgsz=640, save=True, save_period=-1, cache=False, device=None, workers=8, project=None, name=train5, exist_ok=False, pretrained=True, optimizer=auto, verbose=True, seed=0, deterministic=True, single_cls=False, rect=False, cos_lr=False, close_mosaic=10, resume=False, amp=False, fraction=1.0, profile=False, freeze=None, multi_scale=False, overlap_mask=True, mask_ratio=4, dropout=0.0, val=True, split=val, save_json=False, save_hybrid=False, conf=None, iou=0.7, max_det=300, half=False, dnn=False, plots=True, source=None, vid_stride=1, stream_buffer=False, visualize=False, augment=False, agnostic_nms=False, classes=None, retina_masks=False, embed=None, show=False, save_frames=False, save_txt=False, save_conf=False, save_crop=False, show_labels=True, show_conf=True, show_boxes=True, line_width=None, format=torchscript, keras=False, optimize=False, int8=False, dynamic=False, simplify=True, opset=None, workspace=4, nms=False, lr0=0.01, lrf=0.01, momentum=0.937, weight_decay=0.0005, warmup_epochs=3.0, warmup_momentum=0.8, warmup_bias_lr=0.1, box=7.5, cls=0.5, dfl=1.5, pose=12.0, kobj=1.0, label_smoothing=0.0, nbs=64, hsv_h=0.015, hsv_s=0.7, hsv_v=0.4, degrees=0.0, translate=0.1, scale=0.5, shear=0.0, perspective=0.0, flipud=0.0, fliplr=0.5, bgr=0.0, mosaic=1.0, mixup=0.0, copy_paste=0.0, copy_paste_mode=flip, auto_augment=randaugment, erasing=0.4, crop_fraction=1.0, cfg=None, tracker=botsort.yaml, save_dir=runs/pose/train5\n",
      "Overriding model.yaml kpt_shape=[17, 3] with kpt_shape=[14, 3]\n",
      "\n",
      "                   from  n    params  module                                       arguments                     \n",
      "  0                  -1  1       928  ultralytics.nn.modules.conv.Conv             [3, 32, 3, 2]                 \n",
      "  1                  -1  1     18560  ultralytics.nn.modules.conv.Conv             [32, 64, 3, 2]                \n",
      "  2                  -1  1     29056  ultralytics.nn.modules.block.C2f             [64, 64, 1, True]             \n",
      "  3                  -1  1     73984  ultralytics.nn.modules.conv.Conv             [64, 128, 3, 2]               \n",
      "  4                  -1  2    197632  ultralytics.nn.modules.block.C2f             [128, 128, 2, True]           \n",
      "  5                  -1  1    295424  ultralytics.nn.modules.conv.Conv             [128, 256, 3, 2]              \n",
      "  6                  -1  2    788480  ultralytics.nn.modules.block.C2f             [256, 256, 2, True]           \n",
      "  7                  -1  1   1180672  ultralytics.nn.modules.conv.Conv             [256, 512, 3, 2]              \n",
      "  8                  -1  1   1838080  ultralytics.nn.modules.block.C2f             [512, 512, 1, True]           \n",
      "  9                  -1  1    656896  ultralytics.nn.modules.block.SPPF            [512, 512, 5]                 \n",
      " 10                  -1  1         0  torch.nn.modules.upsampling.Upsample         [None, 2, 'nearest']          \n",
      " 11             [-1, 6]  1         0  ultralytics.nn.modules.conv.Concat           [1]                           \n",
      " 12                  -1  1    591360  ultralytics.nn.modules.block.C2f             [768, 256, 1]                 \n",
      " 13                  -1  1         0  torch.nn.modules.upsampling.Upsample         [None, 2, 'nearest']          \n",
      " 14             [-1, 4]  1         0  ultralytics.nn.modules.conv.Concat           [1]                           \n",
      " 15                  -1  1    148224  ultralytics.nn.modules.block.C2f             [384, 128, 1]                 \n",
      " 16                  -1  1    147712  ultralytics.nn.modules.conv.Conv             [128, 128, 3, 2]              \n",
      " 17            [-1, 12]  1         0  ultralytics.nn.modules.conv.Concat           [1]                           \n",
      " 18                  -1  1    493056  ultralytics.nn.modules.block.C2f             [384, 256, 1]                 \n",
      " 19                  -1  1    590336  ultralytics.nn.modules.conv.Conv             [256, 256, 3, 2]              \n",
      " 20             [-1, 9]  1         0  ultralytics.nn.modules.conv.Concat           [1]                           \n",
      " 21                  -1  1   1969152  ultralytics.nn.modules.block.C2f             [768, 512, 1]                 \n",
      " 22        [15, 18, 21]  1   2508673  ultralytics.nn.modules.head.Pose             [1, [14, 3], [128, 256, 512]] \n",
      "YOLOv8s-pose summary: 250 layers, 11,528,225 parameters, 11,528,209 gradients, 30.0 GFLOPs\n",
      "\n",
      "Transferred 361/397 items from pretrained weights\n",
      "Freezing layer 'model.22.dfl.conv.weight'\n",
      "\u001b[34m\u001b[1mtrain: \u001b[0mScanning /home/khalil/VAS/training/volleyball-court-keypoints-1/volleybal\u001b[0m\n",
      "\u001b[34m\u001b[1mtrain: \u001b[0mNew cache created: /home/khalil/VAS/training/volleyball-court-keypoints-1/volleyball-court-keypoints-1/train/labels.cache\n",
      "\u001b[34m\u001b[1mval: \u001b[0mScanning /home/khalil/VAS/training/volleyball-court-keypoints-1/volleyball-\u001b[0m\n",
      "\u001b[34m\u001b[1mval: \u001b[0mNew cache created: /home/khalil/VAS/training/volleyball-court-keypoints-1/volleyball-court-keypoints-1/valid/labels.cache\n",
      "Plotting labels to runs/pose/train5/labels.jpg... \n",
      "\u001b[34m\u001b[1moptimizer:\u001b[0m 'optimizer=auto' found, ignoring 'lr0=0.01' and 'momentum=0.937' and determining best 'optimizer', 'lr0' and 'momentum' automatically... \n",
      "\u001b[34m\u001b[1moptimizer:\u001b[0m AdamW(lr=0.002, momentum=0.9) with parameter groups 63 weight(decay=0.0), 73 weight(decay=0.0005), 72 bias(decay=0.0)\n",
      "Image sizes 640 train, 640 val\n",
      "Using 8 dataloader workers\n",
      "Logging results to \u001b[1mruns/pose/train5\u001b[0m\n",
      "Starting training for 20 epochs...\n",
      "\n",
      "      Epoch    GPU_mem   box_loss  pose_loss  kobj_loss   cls_loss   dfl_loss  Instances       Size\n",
      "       1/20      3.59G      1.518      9.557     0.6882      1.726      1.754   \n",
      "                 Class     Images  Instances      Box(P          R      mAP50  m\n",
      "                   all         99         99      0.875      0.919      0.909       0.55          0          0          0          0\n",
      "\n",
      "      Epoch    GPU_mem   box_loss  pose_loss  kobj_loss   cls_loss   dfl_loss  Instances       Size\n",
      "       2/20      1.18G      1.153      9.365     0.6722     0.9541      1.482   \n",
      "                 Class     Images  Instances      Box(P          R      mAP50  m\n",
      "                   all         99         99       0.37      0.646      0.367     0.0771   6.53e-05     0.0101   3.37e-05   2.36e-05\n",
      "\n",
      "      Epoch    GPU_mem   box_loss  pose_loss  kobj_loss   cls_loss   dfl_loss  Instances       Size\n",
      "       3/20      1.19G      1.198      9.289     0.6662     0.9842      1.507   \n",
      "                 Class     Images  Instances      Box(P          R      mAP50  m\n",
      "                   all         99         99      0.684      0.889      0.873      0.536          0          0          0          0\n",
      "\n",
      "      Epoch    GPU_mem   box_loss  pose_loss  kobj_loss   cls_loss   dfl_loss  Instances       Size\n",
      "       4/20      1.21G      1.175      8.946     0.6453     0.9478       1.47   \n",
      "                 Class     Images  Instances      Box(P          R      mAP50  m\n",
      "                   all         99         99      0.686      0.848      0.736       0.28   0.000137     0.0101   6.97e-05   6.97e-06\n",
      "\n",
      "      Epoch    GPU_mem   box_loss  pose_loss  kobj_loss   cls_loss   dfl_loss  Instances       Size\n",
      "       5/20      1.21G      1.081      8.982     0.6463     0.8275      1.422   \n",
      "                 Class     Images  Instances      Box(P          R      mAP50  m\n",
      "                   all         99         99      0.514      0.596      0.549      0.251          0          0          0          0\n",
      "\n",
      "      Epoch    GPU_mem   box_loss  pose_loss  kobj_loss   cls_loss   dfl_loss  Instances       Size\n",
      "       6/20      1.24G       1.02      8.706     0.6345     0.7969      1.367   \n",
      "                 Class     Images  Instances      Box(P          R      mAP50  m\n",
      "                   all         99         99      0.728      0.757      0.817      0.493   0.000253     0.0101   0.000137   0.000137\n",
      "\n",
      "      Epoch    GPU_mem   box_loss  pose_loss  kobj_loss   cls_loss   dfl_loss  Instances       Size\n",
      "       7/20      1.21G      1.003      8.935     0.6256     0.7782      1.374   \n",
      "                 Class     Images  Instances      Box(P          R      mAP50  m\n",
      "                   all         99         99      0.936      0.919       0.94       0.59          0          0          0          0\n",
      "\n",
      "      Epoch    GPU_mem   box_loss  pose_loss  kobj_loss   cls_loss   dfl_loss  Instances       Size\n",
      "       8/20      1.24G     0.9714      8.795     0.6208     0.7152      1.354   \n",
      "                 Class     Images  Instances      Box(P          R      mAP50  m\n",
      "                   all         99         99      0.933      0.845      0.935      0.704    0.00491     0.0101    0.00121   0.000271\n",
      "\n",
      "      Epoch    GPU_mem   box_loss  pose_loss  kobj_loss   cls_loss   dfl_loss  Instances       Size\n",
      "       9/20       1.2G     0.9333      8.665      0.614      0.706      1.362   \n",
      "                 Class     Images  Instances      Box(P          R      mAP50  m\n",
      "                   all         99         99      0.936      0.899      0.954      0.711          0          0          0          0\n",
      "\n",
      "      Epoch    GPU_mem   box_loss  pose_loss  kobj_loss   cls_loss   dfl_loss  Instances       Size\n",
      "      10/20      1.24G     0.8988      8.625      0.611     0.7436      1.317   \n",
      "                 Class     Images  Instances      Box(P          R      mAP50  m\n",
      "                   all         99         99       0.86      0.866       0.92      0.604     0.0268     0.0101    0.00179   0.000391\n",
      "Closing dataloader mosaic\n",
      "\n",
      "      Epoch    GPU_mem   box_loss  pose_loss  kobj_loss   cls_loss   dfl_loss  Instances       Size\n",
      "      11/20      1.21G     0.8763      9.445     0.6556     0.6864      1.443   \n",
      "                 Class     Images  Instances      Box(P          R      mAP50  m\n",
      "                   all         99         99      0.896       0.96       0.96       0.75          0          0          0          0\n",
      "\n",
      "      Epoch    GPU_mem   box_loss  pose_loss  kobj_loss   cls_loss   dfl_loss  Instances       Size\n",
      "      12/20      1.22G     0.7803      9.389     0.6006     0.5812      1.379   \n",
      "                 Class     Images  Instances      Box(P          R      mAP50  m\n",
      "                   all         99         99      0.895      0.946      0.946      0.729    0.00743     0.0101   0.000345   6.83e-05\n",
      "\n",
      "      Epoch    GPU_mem   box_loss  pose_loss  kobj_loss   cls_loss   dfl_loss  Instances       Size\n",
      "      13/20      1.21G     0.7325      9.253     0.5753     0.5489      1.326   \n",
      "                 Class     Images  Instances      Box(P          R      mAP50  m\n",
      "                   all         99         99       0.98      0.979      0.975      0.778    0.00782     0.0101    0.00135   0.000271\n",
      "\n",
      "      Epoch    GPU_mem   box_loss  pose_loss  kobj_loss   cls_loss   dfl_loss  Instances       Size\n",
      "      14/20      1.22G       0.71      9.123     0.5563     0.5174      1.308   \n",
      "                 Class     Images  Instances      Box(P          R      mAP50  m\n",
      "                   all         99         99      0.805       0.97      0.943      0.725          0          0          0          0\n",
      "\n",
      "      Epoch    GPU_mem   box_loss  pose_loss  kobj_loss   cls_loss   dfl_loss  Instances       Size\n",
      "      15/20       1.2G     0.6893      9.077      0.552     0.5076        1.3   \n",
      "                 Class     Images  Instances      Box(P          R      mAP50  m\n",
      "                   all         99         99      0.819      0.957      0.926      0.715     0.0225     0.0101    0.00248   0.000392\n",
      "\n",
      "      Epoch    GPU_mem   box_loss  pose_loss  kobj_loss   cls_loss   dfl_loss  Instances       Size\n",
      "      16/20      1.22G     0.6393       8.93     0.5433     0.4772      1.233   \n",
      "                 Class     Images  Instances      Box(P          R      mAP50  m\n",
      "                   all         99         99       0.97       0.99      0.986      0.797     0.0183     0.0101    0.00342   0.000497\n",
      "\n",
      "      Epoch    GPU_mem   box_loss  pose_loss  kobj_loss   cls_loss   dfl_loss  Instances       Size\n",
      "      17/20       1.2G     0.6244      8.755     0.5384     0.4574      1.208   \n",
      "                 Class     Images  Instances      Box(P          R      mAP50  m\n",
      "                   all         99         99      0.942      0.976      0.969      0.783          0          0          0          0\n",
      "\n",
      "      Epoch    GPU_mem   box_loss  pose_loss  kobj_loss   cls_loss   dfl_loss  Instances       Size\n",
      "      18/20      1.22G     0.5913      8.765     0.5335     0.4226      1.207   \n",
      "                 Class     Images  Instances      Box(P          R      mAP50  m\n",
      "                   all         99         99       0.99      0.979      0.978      0.835     0.0195     0.0101    0.00442   0.000616\n",
      "\n",
      "      Epoch    GPU_mem   box_loss  pose_loss  kobj_loss   cls_loss   dfl_loss  Instances       Size\n",
      "      19/20       1.2G     0.5377      8.583     0.5427     0.4029      1.161   \n",
      "                 Class     Images  Instances      Box(P          R      mAP50  m\n",
      "                   all         99         99      0.988       0.98      0.979      0.848          0          0          0          0\n",
      "\n",
      "      Epoch    GPU_mem   box_loss  pose_loss  kobj_loss   cls_loss   dfl_loss  Instances       Size\n",
      "      20/20      1.22G     0.5204      8.637     0.5448     0.3909      1.129   \n",
      "                 Class     Images  Instances      Box(P          R      mAP50  m\n",
      "                   all         99         99       0.98      0.986      0.981      0.851     0.0128     0.0101    0.00412   0.000824\n",
      "\n",
      "20 epochs completed in 0.159 hours.\n",
      "Optimizer stripped from runs/pose/train5/weights/last.pt, 23.3MB\n",
      "Optimizer stripped from runs/pose/train5/weights/best.pt, 23.3MB\n",
      "\n",
      "Validating runs/pose/train5/weights/best.pt...\n",
      "Ultralytics 8.3.25 🚀 Python-3.10.12 torch-2.5.1+cu124 CUDA:0 (NVIDIA GeForce GTX 1650, 3721MiB)\n",
      "YOLOv8s-pose summary (fused): 187 layers, 11,517,957 parameters, 0 gradients, 29.8 GFLOPs\n",
      "                 Class     Images  Instances      Box(P          R      mAP50  m\n",
      "                   all         99         99       0.98      0.986      0.981      0.851     0.0128     0.0101     0.0041   0.000821\n",
      "Speed: 0.5ms preprocess, 19.4ms inference, 0.0ms loss, 3.3ms postprocess per image\n",
      "Results saved to \u001b[1mruns/pose/train5\u001b[0m\n",
      "💡 Learn more at https://docs.ultralytics.com/modes/train\n"
     ]
    }
   ],
   "source": [
    "!yolo task=detect mode=train model=yolov8s-pose.pt data={dataset.location}/data.yaml epochs=20 imgsz=640 batch=8 amp=False\n"
   ]
  },
  {
   "cell_type": "markdown",
   "metadata": {},
   "source": [
    "# Evaluate "
   ]
  },
  {
   "cell_type": "code",
   "execution_count": 3,
   "metadata": {},
   "outputs": [],
   "source": [
    "from ultralytics import YOLO"
   ]
  },
  {
   "cell_type": "markdown",
   "metadata": {},
   "source": [
    "### on validation set"
   ]
  },
  {
   "cell_type": "code",
   "execution_count": null,
   "metadata": {},
   "outputs": [],
   "source": [
    "# Load the trained model\n",
    "model = YOLO('runs/pose/train5/weights/best.pt')\n",
    "\n",
    "# Validate the model on the validation set\n",
    "metrics = model.val(data='/home/khalil/VAS/training/volleyball-court-keypoints-1/data.yaml')\n",
    "print(metrics)  "
   ]
  },
  {
   "cell_type": "markdown",
   "metadata": {},
   "source": [
    "### on test set"
   ]
  },
  {
   "cell_type": "code",
   "execution_count": null,
   "metadata": {},
   "outputs": [],
   "source": [
    "# Validate the model on the test set \n",
    "metrics = model.val(data='/home/khalil/VAS/training/volleyball-court-keypoints-1/data.yaml',split='test')\n",
    "print(metrics)  "
   ]
  },
  {
   "cell_type": "markdown",
   "metadata": {},
   "source": [
    "# Inference"
   ]
  },
  {
   "cell_type": "markdown",
   "metadata": {},
   "source": [
    "### Predections results"
   ]
  },
  {
   "cell_type": "code",
   "execution_count": 5,
   "metadata": {},
   "outputs": [
    {
     "name": "stdout",
     "output_type": "stream",
     "text": [
      "\n",
      "image 1/1 /home/khalil/VAS/training/../image.png: 352x640 1 volleyball-court, 36.7ms\n",
      "Speed: 1.5ms preprocess, 36.7ms inference, 4.3ms postprocess per image at shape (1, 3, 352, 640)\n",
      "tensor([[1.7200e+02, 3.8500e+02, 1.5080e+03, 7.4200e+02, 8.8636e-01, 0.0000e+00]], device='cuda:0')\n"
     ]
    }
   ],
   "source": [
    "import cv2\n",
    "from matplotlib import pyplot as plt\n",
    "\n",
    "# Run YOLO inference\n",
    "results = model('../image.png')  \n",
    "print(results[0].boxes.data)"
   ]
  },
  {
   "cell_type": "code",
   "execution_count": 8,
   "metadata": {},
   "outputs": [
    {
     "name": "stdout",
     "output_type": "stream",
     "text": [
      "\n",
      "image 1/1 /home/khalil/VAS/training/../1.png: 640x640 1 volleyball-court, 21.0ms\n",
      "Speed: 18.1ms preprocess, 21.0ms inference, 1.3ms postprocess per image at shape (1, 3, 640, 640)\n",
      "[          0          10         578         468     0.26616           0]\n"
     ]
    }
   ],
   "source": [
    "import cv2\n",
    "from matplotlib import pyplot as plt\n",
    "\n",
    "# Run YOLO inference\n",
    "results = model('../1.png')  \n",
    "print(results[0].boxes.data[0].cpu().numpy())"
   ]
  },
  {
   "cell_type": "code",
   "execution_count": null,
   "metadata": {},
   "outputs": [],
   "source": [
    "print(results)"
   ]
  },
  {
   "cell_type": "markdown",
   "metadata": {},
   "source": [
    "### Court Detection"
   ]
  },
  {
   "cell_type": "code",
   "execution_count": 17,
   "metadata": {},
   "outputs": [
    {
     "name": "stdout",
     "output_type": "stream",
     "text": [
      "\n"
     ]
    },
    {
     "name": "stdout",
     "output_type": "stream",
     "text": [
      "image 1/1 /home/khalil/VAS/training/../image1.jpg: 448x640 1 volleyball-court, 29.0ms\n",
      "Speed: 20.1ms preprocess, 29.0ms inference, 3.4ms postprocess per image at shape (1, 3, 448, 640)\n",
      "tensor([[  0.0000, 147.0000, 492.0000, 333.0000,   0.8488,   0.0000]], device='cuda:0')\n"
     ]
    },
    {
     "data": {
      "text/plain": [
       "<Figure size 1000x800 with 1 Axes>"
      ]
     },
     "metadata": {},
     "output_type": "display_data"
    },
    {
     "name": "stdout",
     "output_type": "stream",
     "text": [
      "Image saved as ../bbox_output.png\n"
     ]
    }
   ],
   "source": [
    "import cv2\n",
    "from matplotlib import pyplot as plt\n",
    "\n",
    "image_path = '../image1.jpg'\n",
    "\n",
    "# Run YOLO inference\n",
    "results = model(image_path)\n",
    "print(results[0].boxes.data)\n",
    "\n",
    "# Extract the first bounding box details\n",
    "bbox_data = results[0].boxes.data[0].cpu().numpy()  # Convert tensor to numpy\n",
    "x_min, y_min, x_max, y_max, confidence, class_id = bbox_data\n",
    "\n",
    "# Load the image\n",
    "\n",
    "image = cv2.imread(image_path)\n",
    "image = cv2.cvtColor(image, cv2.COLOR_BGR2RGB)\n",
    "\n",
    "# Draw the bounding box\n",
    "x_min, y_min, x_max, y_max = map(int, [x_min, y_min, x_max, y_max])\n",
    "label = f\"volleyball-court {confidence:.0%}\"\n",
    "color = (255, 255, 0)  # Yellow color in RGB\n",
    "\n",
    "# Draw rectangle\n",
    "cv2.rectangle(image, (x_min, y_min), (x_max, y_max), color, 3)\n",
    "\n",
    "# Add label\n",
    "font_scale = 1\n",
    "font_thickness = 2\n",
    "font = cv2.FONT_HERSHEY_SIMPLEX\n",
    "text_size, _ = cv2.getTextSize(label, font, font_scale, font_thickness)\n",
    "text_w, text_h = text_size\n",
    "cv2.rectangle(image, (x_min, y_min - text_h - 10), (x_min + text_w, y_min), color, -1)\n",
    "cv2.putText(image, label, (x_min, y_min - 5), font, font_scale, (0, 0, 0), font_thickness)\n",
    "\n",
    "# Save the output image\n",
    "output_path = '../bbox_output.png'\n",
    "cv2.imwrite(output_path, cv2.cvtColor(image, cv2.COLOR_RGB2BGR))\n",
    "\n",
    "# Show the image\n",
    "plt.figure(figsize=(10, 8))\n",
    "plt.imshow(image)\n",
    "plt.axis(\"off\")\n",
    "plt.show()\n",
    "\n",
    "print(f\"Image saved as {output_path}\")\n"
   ]
  },
  {
   "cell_type": "markdown",
   "metadata": {},
   "source": [
    "### Keypoints visualisation "
   ]
  },
  {
   "cell_type": "code",
   "execution_count": null,
   "metadata": {},
   "outputs": [],
   "source": [
    "import cv2\n",
    "from matplotlib import pyplot as plt\n",
    "\n",
    "# Run YOLO inference\n",
    "results = model('../image1.jpg')  # Perform inference\n",
    "result = results[0]  # Extract the first result\n",
    "keypoints = result.keypoints.data  # Get the keypoints as a tensor\n",
    "\n",
    "# Load the image\n",
    "img = cv2.imread('../image1.jpg')\n",
    "if img is None:\n",
    "    raise FileNotFoundError(\"Image not found. Check the file path.\")\n",
    "\n",
    "# Initialize list to store filtered keypoints\n",
    "filtered_keypoints = []\n",
    "\n",
    "# Plot keypoints on the image\n",
    "if keypoints is not None:\n",
    "    keypoints = keypoints.cpu().numpy()  # Move tensor to CPU and convert to numpy\n",
    "    for person_keypoints in keypoints:\n",
    "        for i, keypoint in enumerate(person_keypoints):\n",
    "            x, y, confidence = keypoint  # Extract x, y, confidence\n",
    "            if confidence > 0.5:  # Only process high-confidence keypoints\n",
    "                filtered_keypoints.append((x, y, confidence))  # Add to filtered list\n",
    "                print(f\"Drawing keypoint {i} at ({x:.2f}, {y:.2f}) with confidence {confidence:.2f}\")  # Debug\n",
    "                cv2.circle(img, (int(x), int(y)), 10, (0, 255, 0), -1)  # Draw green keypoints\n",
    "                cv2.putText(img, f\"{i}:{confidence:.2f}\", (int(x) + 10, int(y) + 10), cv2.FONT_HERSHEY_SIMPLEX, 0.5, (255, 255, 255), 1)  # Add labels\n",
    "\n",
    "# Save the processed image\n",
    "cv2.imwrite('../keypoints_output_image.png', img)\n",
    "print(\"Processed image saved as '../keypoints_output_image.png'\")\n",
    "\n",
    "# Display the image\n",
    "plt.imshow(cv2.cvtColor(img, cv2.COLOR_BGR2RGB))\n",
    "plt.axis('off')\n",
    "plt.show()\n",
    "\n",
    "# Print filtered keypoints for debugging or further processing\n",
    "print(\"Filtered Keypoints (x, y, confidence):\")\n",
    "for kpt in filtered_keypoints:\n",
    "    print(kpt)\n"
   ]
  }
 ],
 "metadata": {
  "kernelspec": {
   "display_name": ".venv",
   "language": "python",
   "name": "python3"
  },
  "language_info": {
   "codemirror_mode": {
    "name": "ipython",
    "version": 3
   },
   "file_extension": ".py",
   "mimetype": "text/x-python",
   "name": "python",
   "nbconvert_exporter": "python",
   "pygments_lexer": "ipython3",
   "version": "3.10.12"
  }
 },
 "nbformat": 4,
 "nbformat_minor": 2
}
