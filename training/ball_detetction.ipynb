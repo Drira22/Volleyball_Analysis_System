{
 "cells": [
  {
   "cell_type": "code",
   "execution_count": 1,
   "metadata": {},
   "outputs": [
    {
     "name": "stdout",
     "output_type": "stream",
     "text": [
      "Requirement already satisfied: roboflow in /home/khalil/FAS/.venv/lib/python3.10/site-packages (1.1.48)\n",
      "Requirement already satisfied: Pillow>=7.1.2 in /home/khalil/FAS/.venv/lib/python3.10/site-packages (from roboflow) (10.4.0)\n",
      "Requirement already satisfied: requests in /home/khalil/FAS/.venv/lib/python3.10/site-packages (from roboflow) (2.32.3)\n",
      "Requirement already satisfied: python-dateutil in /home/khalil/FAS/.venv/lib/python3.10/site-packages (from roboflow) (2.9.0.post0)\n",
      "Requirement already satisfied: PyYAML>=5.3.1 in /home/khalil/FAS/.venv/lib/python3.10/site-packages (from roboflow) (6.0.2)\n",
      "Requirement already satisfied: requests-toolbelt in /home/khalil/FAS/.venv/lib/python3.10/site-packages (from roboflow) (1.0.0)\n",
      "Requirement already satisfied: urllib3>=1.26.6 in /home/khalil/FAS/.venv/lib/python3.10/site-packages (from roboflow) (2.2.3)\n",
      "Requirement already satisfied: filetype in /home/khalil/FAS/.venv/lib/python3.10/site-packages (from roboflow) (1.2.0)\n",
      "Requirement already satisfied: idna==3.7 in /home/khalil/FAS/.venv/lib/python3.10/site-packages (from roboflow) (3.7)\n",
      "Requirement already satisfied: certifi in /home/khalil/FAS/.venv/lib/python3.10/site-packages (from roboflow) (2024.8.30)\n",
      "Requirement already satisfied: kiwisolver>=1.3.1 in /home/khalil/FAS/.venv/lib/python3.10/site-packages (from roboflow) (1.4.7)\n",
      "Requirement already satisfied: matplotlib in /home/khalil/FAS/.venv/lib/python3.10/site-packages (from roboflow) (3.9.2)\n",
      "Collecting opencv-python-headless==4.10.0.84\n",
      "  Downloading opencv_python_headless-4.10.0.84-cp37-abi3-manylinux_2_17_x86_64.manylinux2014_x86_64.whl (49.9 MB)\n",
      "\u001b[2K     \u001b[90m━━━━━━━━━━━━━━━━━━━━━━━━━━━━━━━━━━━━━━━━\u001b[0m \u001b[32m49.9/49.9 MB\u001b[0m \u001b[31m9.4 MB/s\u001b[0m eta \u001b[36m0:00:00\u001b[0m:00:01\u001b[0m00:01\u001b[0m\n",
      "\u001b[?25hRequirement already satisfied: six in /home/khalil/FAS/.venv/lib/python3.10/site-packages (from roboflow) (1.16.0)\n",
      "Requirement already satisfied: tqdm>=4.41.0 in /home/khalil/FAS/.venv/lib/python3.10/site-packages (from roboflow) (4.66.6)\n",
      "Requirement already satisfied: cycler in /home/khalil/FAS/.venv/lib/python3.10/site-packages (from roboflow) (0.12.1)\n",
      "Requirement already satisfied: numpy>=1.18.5 in /home/khalil/FAS/.venv/lib/python3.10/site-packages (from roboflow) (1.26.4)\n",
      "Requirement already satisfied: python-dotenv in /home/khalil/FAS/.venv/lib/python3.10/site-packages (from roboflow) (1.0.1)\n",
      "Requirement already satisfied: contourpy>=1.0.1 in /home/khalil/FAS/.venv/lib/python3.10/site-packages (from matplotlib->roboflow) (1.3.1)\n",
      "Requirement already satisfied: pyparsing>=2.3.1 in /home/khalil/FAS/.venv/lib/python3.10/site-packages (from matplotlib->roboflow) (3.2.0)\n",
      "Requirement already satisfied: fonttools>=4.22.0 in /home/khalil/FAS/.venv/lib/python3.10/site-packages (from matplotlib->roboflow) (4.55.0)\n",
      "Requirement already satisfied: packaging>=20.0 in /home/khalil/FAS/.venv/lib/python3.10/site-packages (from matplotlib->roboflow) (24.2)\n",
      "Requirement already satisfied: charset-normalizer<4,>=2 in /home/khalil/FAS/.venv/lib/python3.10/site-packages (from requests->roboflow) (3.4.0)\n",
      "Installing collected packages: opencv-python-headless\n",
      "Successfully installed opencv-python-headless-4.10.0.84\n"
     ]
    }
   ],
   "source": [
    "!pip install roboflow"
   ]
  },
  {
   "cell_type": "markdown",
   "metadata": {},
   "source": [
    "# Get Dataset"
   ]
  },
  {
   "cell_type": "code",
   "execution_count": 2,
   "metadata": {},
   "outputs": [
    {
     "name": "stdout",
     "output_type": "stream",
     "text": [
      "loading Roboflow workspace...\n",
      "loading Roboflow project...\n"
     ]
    },
    {
     "name": "stderr",
     "output_type": "stream",
     "text": [
      "Downloading Dataset Version Zip in vv_dataset_only_ball-2 to yolov8:: 100%|██████████| 389369/389369 [00:38<00:00, 10060.85it/s]"
     ]
    },
    {
     "name": "stdout",
     "output_type": "stream",
     "text": [
      "\n"
     ]
    },
    {
     "name": "stderr",
     "output_type": "stream",
     "text": [
      "\n",
      "Extracting Dataset Version Zip to vv_dataset_only_ball-2 in yolov8:: 100%|██████████| 14490/14490 [00:01<00:00, 7965.40it/s] \n"
     ]
    }
   ],
   "source": [
    "from roboflow import Roboflow\n",
    "rf = Roboflow(api_key=\"cJUunyRGd3YuAM3cnXbU\")\n",
    "project = rf.workspace(\"volleyunder\").project(\"vv_dataset_only_ball\")\n",
    "version = project.version(2)\n",
    "dataset = version.download(\"yolov8\")\n",
    "                "
   ]
  },
  {
   "cell_type": "code",
   "execution_count": 4,
   "metadata": {},
   "outputs": [
    {
     "data": {
      "text/plain": [
       "'/home/khalil/VAS/training/vv_dataset_only_ball-2'"
      ]
     },
     "execution_count": 4,
     "metadata": {},
     "output_type": "execute_result"
    }
   ],
   "source": [
    "dataset.location"
   ]
  },
  {
   "cell_type": "code",
   "execution_count": 7,
   "metadata": {},
   "outputs": [
    {
     "data": {
      "text/plain": [
       "'vv_dataset_only_ball-2/vv_dataset_only_ball-2/valid'"
      ]
     },
     "execution_count": 7,
     "metadata": {},
     "output_type": "execute_result"
    }
   ],
   "source": [
    "import shutil\n",
    "\n",
    "shutil.move('vv_dataset_only_ball-2/train',\n",
    "            'vv_dataset_only_ball-2/vv_dataset_only_ball-2/train'\n",
    "            )\n",
    "\n",
    "shutil.move('vv_dataset_only_ball-2/test',\n",
    "            'vv_dataset_only_ball-2/vv_dataset_only_ball-2/test'\n",
    "            )\n",
    "\n",
    "shutil.move('vv_dataset_only_ball-2/valid',\n",
    "            'vv_dataset_only_ball-2/vv_dataset_only_ball-2/valid'\n",
    "            )"
   ]
  },
  {
   "cell_type": "markdown",
   "metadata": {},
   "source": [
    "# Training"
   ]
  },
  {
   "cell_type": "code",
   "execution_count": 22,
   "metadata": {},
   "outputs": [],
   "source": [
    "#cleaning cash from gpu\n",
    "\n",
    "import torch\n",
    "torch.cuda.empty_cache()\n"
   ]
  },
  {
   "cell_type": "code",
   "execution_count": 6,
   "metadata": {},
   "outputs": [
    {
     "name": "stdout",
     "output_type": "stream",
     "text": [
      "cuda\n"
     ]
    }
   ],
   "source": [
    "device = 'cuda' if torch.cuda.is_available() else 'cpu'\n",
    "print(device)"
   ]
  },
  {
   "cell_type": "code",
   "execution_count": 9,
   "metadata": {},
   "outputs": [
    {
     "name": "stdout",
     "output_type": "stream",
     "text": [
      "New https://pypi.org/project/ultralytics/8.3.40 available 😃 Update with 'pip install -U ultralytics'\n",
      "Ultralytics 8.3.25 🚀 Python-3.10.12 torch-2.5.1+cu124 CUDA:0 (NVIDIA GeForce GTX 1650, 3721MiB)\n",
      "\u001b[34m\u001b[1mengine/trainer: \u001b[0mtask=detect, mode=train, model=yolov8m.pt, data=/home/khalil/VAS/training/vv_dataset_only_ball-2/data.yaml, epochs=5, time=None, patience=100, batch=8, imgsz=420, save=True, save_period=-1, cache=False, device=None, workers=8, project=None, name=train12, exist_ok=False, pretrained=True, optimizer=auto, verbose=True, seed=0, deterministic=True, single_cls=False, rect=False, cos_lr=False, close_mosaic=10, resume=False, amp=False, fraction=1.0, profile=False, freeze=None, multi_scale=False, overlap_mask=True, mask_ratio=4, dropout=0.0, val=True, split=val, save_json=False, save_hybrid=False, conf=None, iou=0.7, max_det=300, half=False, dnn=False, plots=True, source=None, vid_stride=1, stream_buffer=False, visualize=False, augment=False, agnostic_nms=False, classes=None, retina_masks=False, embed=None, show=False, save_frames=False, save_txt=False, save_conf=False, save_crop=False, show_labels=True, show_conf=True, show_boxes=True, line_width=None, format=torchscript, keras=False, optimize=False, int8=False, dynamic=False, simplify=True, opset=None, workspace=4, nms=False, lr0=0.01, lrf=0.01, momentum=0.937, weight_decay=0.0005, warmup_epochs=3.0, warmup_momentum=0.8, warmup_bias_lr=0.1, box=7.5, cls=0.5, dfl=1.5, pose=12.0, kobj=1.0, label_smoothing=0.0, nbs=64, hsv_h=0.015, hsv_s=0.7, hsv_v=0.4, degrees=0.0, translate=0.1, scale=0.5, shear=0.0, perspective=0.0, flipud=0.0, fliplr=0.5, bgr=0.0, mosaic=1.0, mixup=0.0, copy_paste=0.0, copy_paste_mode=flip, auto_augment=randaugment, erasing=0.4, crop_fraction=1.0, cfg=None, tracker=botsort.yaml, save_dir=runs/detect/train12\n",
      "Overriding model.yaml nc=80 with nc=1\n",
      "\n",
      "                   from  n    params  module                                       arguments                     \n",
      "  0                  -1  1      1392  ultralytics.nn.modules.conv.Conv             [3, 48, 3, 2]                 \n",
      "  1                  -1  1     41664  ultralytics.nn.modules.conv.Conv             [48, 96, 3, 2]                \n",
      "  2                  -1  2    111360  ultralytics.nn.modules.block.C2f             [96, 96, 2, True]             \n",
      "  3                  -1  1    166272  ultralytics.nn.modules.conv.Conv             [96, 192, 3, 2]               \n",
      "  4                  -1  4    813312  ultralytics.nn.modules.block.C2f             [192, 192, 4, True]           \n",
      "  5                  -1  1    664320  ultralytics.nn.modules.conv.Conv             [192, 384, 3, 2]              \n",
      "  6                  -1  4   3248640  ultralytics.nn.modules.block.C2f             [384, 384, 4, True]           \n",
      "  7                  -1  1   1991808  ultralytics.nn.modules.conv.Conv             [384, 576, 3, 2]              \n",
      "  8                  -1  2   3985920  ultralytics.nn.modules.block.C2f             [576, 576, 2, True]           \n",
      "  9                  -1  1    831168  ultralytics.nn.modules.block.SPPF            [576, 576, 5]                 \n",
      " 10                  -1  1         0  torch.nn.modules.upsampling.Upsample         [None, 2, 'nearest']          \n",
      " 11             [-1, 6]  1         0  ultralytics.nn.modules.conv.Concat           [1]                           \n",
      " 12                  -1  2   1993728  ultralytics.nn.modules.block.C2f             [960, 384, 2]                 \n",
      " 13                  -1  1         0  torch.nn.modules.upsampling.Upsample         [None, 2, 'nearest']          \n",
      " 14             [-1, 4]  1         0  ultralytics.nn.modules.conv.Concat           [1]                           \n",
      " 15                  -1  2    517632  ultralytics.nn.modules.block.C2f             [576, 192, 2]                 \n",
      " 16                  -1  1    332160  ultralytics.nn.modules.conv.Conv             [192, 192, 3, 2]              \n",
      " 17            [-1, 12]  1         0  ultralytics.nn.modules.conv.Concat           [1]                           \n",
      " 18                  -1  2   1846272  ultralytics.nn.modules.block.C2f             [576, 384, 2]                 \n",
      " 19                  -1  1   1327872  ultralytics.nn.modules.conv.Conv             [384, 384, 3, 2]              \n",
      " 20             [-1, 9]  1         0  ultralytics.nn.modules.conv.Concat           [1]                           \n",
      " 21                  -1  2   4207104  ultralytics.nn.modules.block.C2f             [960, 576, 2]                 \n",
      " 22        [15, 18, 21]  1   3776275  ultralytics.nn.modules.head.Detect           [1, [192, 384, 576]]          \n",
      "Model summary: 295 layers, 25,856,899 parameters, 25,856,883 gradients, 79.1 GFLOPs\n",
      "\n",
      "Transferred 469/475 items from pretrained weights\n",
      "Freezing layer 'model.22.dfl.conv.weight'\n",
      "WARNING ⚠️ imgsz=[420] must be multiple of max stride 32, updating to [448]\n",
      "\u001b[34m\u001b[1mtrain: \u001b[0mScanning /home/khalil/VAS/training/vv_dataset_only_ball-2/vv_dataset_only\u001b[0m\n",
      "\u001b[34m\u001b[1mtrain: \u001b[0mWARNING ⚠️ /home/khalil/VAS/training/vv_dataset_only_ball-2/vv_dataset_only_ball-2/train/images/08c8300f625d8f39_jpg.rf.c1fd308cc14ed54f8068968ae711e65d.jpg: 1 duplicate labels removed\n",
      "\u001b[34m\u001b[1mval: \u001b[0mScanning /home/khalil/VAS/training/vv_dataset_only_ball-2/vv_dataset_only_b\u001b[0m\n",
      "Plotting labels to runs/detect/train12/labels.jpg... \n",
      "\u001b[34m\u001b[1moptimizer:\u001b[0m 'optimizer=auto' found, ignoring 'lr0=0.01' and 'momentum=0.937' and determining best 'optimizer', 'lr0' and 'momentum' automatically... \n",
      "\u001b[34m\u001b[1moptimizer:\u001b[0m AdamW(lr=0.002, momentum=0.9) with parameter groups 77 weight(decay=0.0), 84 weight(decay=0.0005), 83 bias(decay=0.0)\n",
      "Image sizes 448 train, 448 val\n",
      "Using 8 dataloader workers\n",
      "Logging results to \u001b[1mruns/detect/train12\u001b[0m\n",
      "Starting training for 5 epochs...\n",
      "\n",
      "      Epoch    GPU_mem   box_loss   cls_loss   dfl_loss  Instances       Size\n",
      "        1/5      3.61G       1.51      1.796       1.35         14        448: 1\n",
      "                 Class     Images  Instances      Box(P          R      mAP50  m\n",
      "                   all       1112       1231      0.433      0.254      0.235      0.133\n",
      "\n",
      "      Epoch    GPU_mem   box_loss   cls_loss   dfl_loss  Instances       Size\n",
      "        2/5      3.44G      1.588       1.61      1.382         14        448: 1\n",
      "                 Class     Images  Instances      Box(P          R      mAP50  m\n",
      "                   all       1112       1231      0.567       0.44      0.402      0.217\n",
      "\n",
      "      Epoch    GPU_mem   box_loss   cls_loss   dfl_loss  Instances       Size\n",
      "        3/5      3.44G      1.458      1.413      1.307          9        448: 1\n",
      "                 Class     Images  Instances      Box(P          R      mAP50  m\n",
      "                   all       1112       1231      0.759      0.488      0.555      0.341\n",
      "\n",
      "      Epoch    GPU_mem   box_loss   cls_loss   dfl_loss  Instances       Size\n",
      "        4/5      3.45G      1.332      1.155      1.232         10        448: 1\n",
      "                 Class     Images  Instances      Box(P          R      mAP50  m\n",
      "                   all       1112       1231      0.827      0.552      0.648      0.405\n",
      "\n",
      "      Epoch    GPU_mem   box_loss   cls_loss   dfl_loss  Instances       Size\n",
      "        5/5      3.43G      1.226      1.015      1.187         11        448: 1\n",
      "                 Class     Images  Instances      Box(P          R      mAP50  m\n",
      "                   all       1112       1231      0.842      0.609      0.684      0.433\n",
      "\n",
      "5 epochs completed in 0.610 hours.\n",
      "Optimizer stripped from runs/detect/train12/weights/last.pt, 52.0MB\n",
      "Optimizer stripped from runs/detect/train12/weights/best.pt, 52.0MB\n",
      "\n",
      "Validating runs/detect/train12/weights/best.pt...\n",
      "Ultralytics 8.3.25 🚀 Python-3.10.12 torch-2.5.1+cu124 CUDA:0 (NVIDIA GeForce GTX 1650, 3721MiB)\n",
      "Model summary (fused): 218 layers, 25,840,339 parameters, 0 gradients, 78.7 GFLOPs\n",
      "                 Class     Images  Instances      Box(P          R      mAP50  m\n",
      "                   all       1112       1231      0.842      0.609      0.684      0.433\n",
      "Speed: 0.2ms preprocess, 18.5ms inference, 0.0ms loss, 0.6ms postprocess per image\n",
      "Results saved to \u001b[1mruns/detect/train12\u001b[0m\n",
      "💡 Learn more at https://docs.ultralytics.com/modes/train\n"
     ]
    }
   ],
   "source": [
    "!yolo task=detect mode=train model=yolov8m.pt data={dataset.location}/data.yaml epochs=5 imgsz=420 batch=8 amp=False"
   ]
  },
  {
   "cell_type": "markdown",
   "metadata": {},
   "source": [
    "# Evaluation"
   ]
  },
  {
   "cell_type": "code",
   "execution_count": 10,
   "metadata": {},
   "outputs": [],
   "source": [
    "from ultralytics import YOLO"
   ]
  },
  {
   "cell_type": "code",
   "execution_count": null,
   "metadata": {},
   "outputs": [],
   "source": [
    "# Load the trained model\n",
    "model = YOLO('runs/detect/train12/weights/best.pt')\n",
    "\n",
    "# Validate the model on the validation set\n",
    "metrics = model.val(data='/home/khalil/VAS/training/vv_dataset_only_ball-2/data.yaml')\n",
    "print(metrics)  "
   ]
  },
  {
   "cell_type": "markdown",
   "metadata": {},
   "source": [
    "# Inference"
   ]
  },
  {
   "cell_type": "code",
   "execution_count": 18,
   "metadata": {},
   "outputs": [
    {
     "name": "stdout",
     "output_type": "stream",
     "text": [
      "\n",
      "image 1/1 /home/khalil/VAS/training/../image1.jpg: 320x448 1 ball, 36.9ms\n",
      "Speed: 15.8ms preprocess, 36.9ms inference, 1.1ms postprocess per image at shape (1, 3, 320, 448)\n",
      "ultralytics.engine.results.Boxes object with attributes:\n",
      "\n",
      "cls: tensor([0.], device='cuda:0')\n",
      "conf: tensor([0.3840], device='cuda:0')\n",
      "data: tensor([[321.4642, 159.8530, 327.0332, 168.0201,   0.3840,   0.0000]], device='cuda:0')\n",
      "id: None\n",
      "is_track: False\n",
      "orig_shape: (333, 500)\n",
      "shape: torch.Size([1, 6])\n",
      "xywh: tensor([[324.2487, 163.9365,   5.5691,   8.1671]], device='cuda:0')\n",
      "xywhn: tensor([[0.6485, 0.4923, 0.0111, 0.0245]], device='cuda:0')\n",
      "xyxy: tensor([[321.4642, 159.8530, 327.0332, 168.0201]], device='cuda:0')\n",
      "xyxyn: tensor([[0.6429, 0.4800, 0.6541, 0.5046]], device='cuda:0')\n"
     ]
    }
   ],
   "source": [
    "import cv2\n",
    "from matplotlib import pyplot as plt\n",
    "\n",
    "# Run YOLO inference\n",
    "results = model('../image1.jpg')  \n",
    "print(results[0].boxes)"
   ]
  },
  {
   "cell_type": "code",
   "execution_count": 21,
   "metadata": {},
   "outputs": [
    {
     "name": "stdout",
     "output_type": "stream",
     "text": [
      "\n",
      "image 1/1 /home/khalil/VAS/training/../image1.jpg: 320x448 1 ball, 19.7ms\n",
      "Speed: 1.4ms preprocess, 19.7ms inference, 1.5ms postprocess per image at shape (1, 3, 320, 448)\n",
      "tensor([[321.4642, 159.8530, 327.0332, 168.0201,   0.3840,   0.0000]], device='cuda:0')\n"
     ]
    },
    {
     "data": {
      "text/plain": [
       "<Figure size 1000x800 with 1 Axes>"
      ]
     },
     "metadata": {},
     "output_type": "display_data"
    },
    {
     "name": "stdout",
     "output_type": "stream",
     "text": [
      "Image saved as ../bbox_output.png\n"
     ]
    }
   ],
   "source": [
    "import cv2\n",
    "from matplotlib import pyplot as plt\n",
    "\n",
    "image_path = '../image1.jpg'\n",
    "\n",
    "# Run YOLO inference\n",
    "results = model(image_path)\n",
    "print(results[0].boxes.data)\n",
    "\n",
    "# Extract the first bounding box details\n",
    "bbox_data = results[0].boxes.data[0].cpu().numpy()  # Convert tensor to numpy\n",
    "x_min, y_min, x_max, y_max, confidence, class_id = bbox_data\n",
    "\n",
    "# Load the image\n",
    "\n",
    "image = cv2.imread(image_path)\n",
    "image = cv2.cvtColor(image, cv2.COLOR_BGR2RGB)\n",
    "\n",
    "# Draw the bounding box\n",
    "x_min, y_min, x_max, y_max = map(int, [x_min, y_min, x_max, y_max])\n",
    "label = f\"Ball {confidence:.0%}\"\n",
    "color = (255, 255, 0)  # Yellow color in RGB\n",
    "\n",
    "# Draw rectangle\n",
    "cv2.rectangle(image, (x_min, y_min), (x_max, y_max), color, 1)\n",
    "\n",
    "# Add label\n",
    "font_scale = 1\n",
    "font_thickness = 2\n",
    "font = cv2.FONT_HERSHEY_SIMPLEX\n",
    "text_size, _ = cv2.getTextSize(label, font, font_scale, font_thickness)\n",
    "text_w, text_h = text_size\n",
    "cv2.rectangle(image, (x_min, y_min - text_h - 10), (x_min + text_w, y_min), color, -1)\n",
    "cv2.putText(image, label, (x_min, y_min - 5), font, font_scale, (0, 0, 0), font_thickness)\n",
    "\n",
    "# Save the output image\n",
    "output_path = '../bbox_output.png'\n",
    "cv2.imwrite(output_path, cv2.cvtColor(image, cv2.COLOR_RGB2BGR))\n",
    "\n",
    "# Show the image\n",
    "plt.figure(figsize=(10, 8))\n",
    "plt.imshow(image)\n",
    "plt.axis(\"off\")\n",
    "plt.show()\n",
    "\n",
    "print(f\"Image saved as {output_path}\")\n"
   ]
  }
 ],
 "metadata": {
  "kernelspec": {
   "display_name": ".venv",
   "language": "python",
   "name": "python3"
  },
  "language_info": {
   "codemirror_mode": {
    "name": "ipython",
    "version": 3
   },
   "file_extension": ".py",
   "mimetype": "text/x-python",
   "name": "python",
   "nbconvert_exporter": "python",
   "pygments_lexer": "ipython3",
   "version": "3.10.12"
  }
 },
 "nbformat": 4,
 "nbformat_minor": 2
}
